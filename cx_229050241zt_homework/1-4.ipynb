{
 "cells": [
  {
   "cell_type": "code",
   "execution_count": 18,
   "metadata": {},
   "outputs": [],
   "source": [
    "import os\n",
    "from openai import OpenAI\n",
    "\n",
    "\n",
    "client = OpenAI(\n",
    "  api_key=\"sk-\",\n",
    "  base_url=\"https://api.deepseek.com\"\n",
    ")\n",
    "deployment = \"deepseek-chat\" "
   ]
  },
  {
   "cell_type": "code",
   "execution_count": 28,
   "metadata": {},
   "outputs": [
    {
     "name": "stdout",
     "output_type": "stream",
     "text": [
      "检测到的语言: The language of the text \"こんにちは\" is Japanese.\n",
      "翻译结果: 你好\n",
      "使用的token数量: 20\n"
     ]
    }
   ],
   "source": [
    "def get_completion(prompt, max_tokens=270):\n",
    "    messages = [{\"role\": \"user\", \"content\": prompt}]\n",
    "    response = client.chat.completions.create(\n",
    "        model=deployment,\n",
    "        messages=messages,\n",
    "        temperature=0.6,\n",
    "        max_tokens=max_tokens\n",
    "    )\n",
    "    content = response.choices[0].message.content\n",
    "    token_usage = response.usage.total_tokens\n",
    "    return content, token_usage\n",
    "\n",
    "def detect_language(text):\n",
    "    prompt = f\"Detect the language of the following text: {text}\"\n",
    "    detected_language, _ = get_completion(prompt)\n",
    "    return detected_language.strip()\n",
    "\n",
    "def translate_text(text, target_language):\n",
    "    prompt = f\"Translate the following text to {target_language}: {text}\"\n",
    "    translation, token_usage = get_completion(prompt)\n",
    "    return translation, token_usage\n",
    "\n",
    "def main():\n",
    "    # 示例输入\n",
    "    text = input(\"请输入要翻译的文本: \")\n",
    "    target_language = input(\"请输入目标语言 (例如 'English', 'Chinese'): \")\n",
    "\n",
    "    # 检测输入语言\n",
    "    detected_language = detect_language(text)\n",
    "    print(f\"检测到的语言: {detected_language}\")\n",
    "\n",
    "    # 进行翻译\n",
    "    translation, token_usage = translate_text(text, target_language)\n",
    "\n",
    "    # 输出翻译结果和token使用量\n",
    "    print(f\"翻译结果: {translation}\")\n",
    "    print(f\"使用的token数量: {token_usage}\")\n",
    "\n",
    "if __name__ == \"__main__\":\n",
    "    main()"
   ]
  }
 ],
 "metadata": {
  "kernelspec": {
   "display_name": "Python 3",
   "language": "python",
   "name": "python3"
  },
  "language_info": {
   "codemirror_mode": {
    "name": "ipython",
    "version": 3
   },
   "file_extension": ".py",
   "mimetype": "text/x-python",
   "name": "python",
   "nbconvert_exporter": "python",
   "pygments_lexer": "ipython3",
   "version": "3.12.1"
  }
 },
 "nbformat": 4,
 "nbformat_minor": 2
}
