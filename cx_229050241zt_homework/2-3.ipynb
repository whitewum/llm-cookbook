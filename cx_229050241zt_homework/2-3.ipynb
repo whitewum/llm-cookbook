{
 "cells": [
  {
   "cell_type": "code",
   "execution_count": 6,
   "metadata": {},
   "outputs": [
    {
     "name": "stdout",
     "output_type": "stream",
     "text": [
      "TechPro Ultrabook的价格是 799.99 元。\n"
     ]
    }
   ],
   "source": [
    "def generate_response(user_query, product_info):\n",
    "    \"\"\"\n",
    "    根据用户查询和产品信息生成客服回复\n",
    "\n",
    "    参数:\n",
    "    user_query (str): 用户的查询\n",
    "    product_info (dict): 产品信息字典\n",
    "\n",
    "    返回:\n",
    "    str: 生成的客服回复\n",
    "    \"\"\"\n",
    "    # 提取产品名称\n",
    "    product_name = product_info.get(\"name\", \"产品\")\n",
    "    \n",
    "    # 提取价格\n",
    "    price = product_info.get(\"price\", \"未知\")\n",
    "    \n",
    "    # 检查用户查询中是否包含价格相关的关键词\n",
    "    if \"价格\" in user_query or \"多少钱\" in user_query:\n",
    "        return f\"{product_name}的价格是 {price} 元。\"\n",
    "    \n",
    "    # 如果查询中没有明确的关键词，返回一个默认回复\n",
    "    return f\"您好，您可以询问有关 {product_name} 的任何问题，例如价格、功能等。\"\n",
    "\n",
    "# 测试\n",
    "query = \"TechPro Ultrabook的价格是多少?\"\n",
    "product_info = {\"name\": \"TechPro Ultrabook\", \"price\": 799.99}\n",
    "print(generate_response(query, product_info))"
   ]
  }
 ],
 "metadata": {
  "kernelspec": {
   "display_name": "Python 3",
   "language": "python",
   "name": "python3"
  },
  "language_info": {
   "codemirror_mode": {
    "name": "ipython",
    "version": 3
   },
   "file_extension": ".py",
   "mimetype": "text/x-python",
   "name": "python",
   "nbconvert_exporter": "python",
   "pygments_lexer": "ipython3",
   "version": "3.12.1"
  }
 },
 "nbformat": 4,
 "nbformat_minor": 2
}
