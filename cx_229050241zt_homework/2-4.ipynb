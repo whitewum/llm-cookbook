{
 "cells": [
  {
   "cell_type": "code",
   "execution_count": 1,
   "metadata": {},
   "outputs": [
    {
     "name": "stdout",
     "output_type": "stream",
     "text": [
      "正面\n",
      "负面\n"
     ]
    }
   ],
   "source": [
    "def sentiment_analysis(user_review):\n",
    "    \"\"\"\n",
    "    对用户评论进行简单的情感分析\n",
    "\n",
    "    参数:\n",
    "    user_review (str): 用户评论\n",
    "\n",
    "    返回:\n",
    "    str: 情感倾向（\"正面\"、\"负面\"或\"中性\"）\n",
    "    \"\"\"\n",
    "    # 定义正面和负面词汇列表\n",
    "    positive_words = [\"棒\", \"喜欢\", \"好\", \"满意\", \"不错\", \"赞\"]\n",
    "    negative_words = [\"差\", \"失望\", \"糟糕\", \"不好\", \"差劲\", \"讨厌\"]\n",
    "\n",
    "    # 将评论转换为小写，以便不区分大小写\n",
    "    user_review = user_review.lower()\n",
    "\n",
    "    # 初始化正面和负面词汇计数\n",
    "    positive_count = 0\n",
    "    negative_count = 0\n",
    "\n",
    "    # 统计正面和负面词汇的出现次数\n",
    "    for word in positive_words:\n",
    "        if word in user_review:\n",
    "            positive_count += 1\n",
    "\n",
    "    for word in negative_words:\n",
    "        if word in user_review:\n",
    "            negative_count += 1\n",
    "\n",
    "    # 判断情感倾向\n",
    "    if positive_count > negative_count:\n",
    "        return \"正面\"\n",
    "    elif negative_count > positive_count:\n",
    "        return \"负面\"\n",
    "    else:\n",
    "        return \"中性\"\n",
    "\n",
    "# 测试\n",
    "review1 = \"这个产品太棒了，我非常喜欢！\"\n",
    "review2 = \"质量很差，我感到非常失望。\"\n",
    "print(sentiment_analysis(review1))  # 输出: 正面\n",
    "print(sentiment_analysis(review2))  # 输出: 负面"
   ]
  }
 ],
 "metadata": {
  "kernelspec": {
   "display_name": "Python 3",
   "language": "python",
   "name": "python3"
  },
  "language_info": {
   "codemirror_mode": {
    "name": "ipython",
    "version": 3
   },
   "file_extension": ".py",
   "mimetype": "text/x-python",
   "name": "python",
   "nbconvert_exporter": "python",
   "pygments_lexer": "ipython3",
   "version": "3.12.1"
  }
 },
 "nbformat": 4,
 "nbformat_minor": 2
}
