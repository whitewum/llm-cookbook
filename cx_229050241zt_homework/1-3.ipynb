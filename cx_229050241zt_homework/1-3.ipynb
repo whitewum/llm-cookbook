{
 "cells": [
  {
   "cell_type": "code",
   "execution_count": 5,
   "metadata": {},
   "outputs": [],
   "source": [
    "import os\n",
    "from openai import OpenAI\n",
    "\n",
    "\n",
    "client = OpenAI(\n",
    "  api_key=\"sk-\",\n",
    "  base_url=\"https://api.deepseek.com\"\n",
    ")\n",
    "deployment = \"deepseek-chat\" "
   ]
  },
  {
   "cell_type": "code",
   "execution_count": 9,
   "metadata": {},
   "outputs": [
    {
     "name": "stdout",
     "output_type": "stream",
     "text": [
      "Bot: 3 + 3 = 6\n",
      "Bot: 5 + 15 = 20\n",
      "Bot: 6666 + 212 = 6878\n",
      "Bot: 让我们来计算前面所有问题的答案之和：\n",
      "\n",
      "1. \\( 3 + 3 = 6 \\)\n",
      "2. \\( 5 + 15 = 20 \\)\n",
      "3. \\( 6666 + 212 = 6878 \\)\n",
      "\n",
      "现在我们将这些结果相加：\n",
      "\n",
      "\\[ 6 + 20 + 6878 = 6904 \\]\n",
      "\n",
      "所以，前面所有问题的答案之和是 \\( 6904 \\)。\n"
     ]
    }
   ],
   "source": [
    "MAX_TOKENS = 200\n",
    "\n",
    "class ChatBot:\n",
    "    def __init__(self):\n",
    "        self.conversation_history = []\n",
    "\n",
    "    def send_message(self, message: str) -> str:\n",
    "        \"\"\"\n",
    "        发送消息到 deepseek-chat 部署并返回响应。\n",
    "\n",
    "        :param message: 要发送的消息字符串。\n",
    "        :return: 从 deepseek-chat 部署返回的响应字符串。\n",
    "        \"\"\"\n",
    "        # 将用户消息添加到对话历史\n",
    "        self.conversation_history.append({\"role\": \"user\", \"content\": message})\n",
    "\n",
    "        # 检查 token 数量是否超过阈值\n",
    "        while self.estimate_token_count() > MAX_TOKENS:\n",
    "            # 压缩或删除最早的对话记录\n",
    "            self.compress_or_delete_oldest_message()\n",
    "\n",
    "        try:\n",
    "            # 使用 OpenAI 客户端发送消息\n",
    "            response = client.chat.completions.create(\n",
    "                model=deployment,\n",
    "                messages=self.conversation_history\n",
    "            )\n",
    "            \n",
    "            # 提取并返回响应内容\n",
    "            assistant_response = response.choices[0].message.content.strip()\n",
    "            self.conversation_history.append({\"role\": \"assistant\", \"content\": assistant_response})\n",
    "            return assistant_response\n",
    "        \n",
    "        except Exception as e:\n",
    "            # 处理异常情况\n",
    "            return f\"Error: {str(e)}\"\n",
    "\n",
    "    def estimate_token_count(self) -> int:\n",
    "        \"\"\"\n",
    "        估计当前对话历史的 token 数量。\n",
    "\n",
    "        :return: 估计的 token 数量。\n",
    "        \"\"\"\n",
    "        # 这里我们简单地假设每个字符大约对应一个 token\n",
    "        return sum(len(msg[\"content\"]) for msg in self.conversation_history)\n",
    "\n",
    "    def compress_or_delete_oldest_message(self):\n",
    "        \"\"\"\n",
    "        压缩或删除最早的对话记录。\n",
    "        \"\"\"\n",
    "        # 这里我们简单地删除最早的对话记录\n",
    "        if self.conversation_history:\n",
    "            self.conversation_history.pop(0)\n",
    "\n",
    "# 示例使用\n",
    "if __name__ == \"__main__\":\n",
    "    chatbot = ChatBot()\n",
    "    while True:\n",
    "        user_message = input(\"You: \")\n",
    "        if user_message.lower() in [\"退出！\", \"再见\"]:\n",
    "            break\n",
    "        response = chatbot.send_message(user_message)\n",
    "        print(f\"Bot: {response}\")"
   ]
  }
 ],
 "metadata": {
  "kernelspec": {
   "display_name": "Python 3",
   "language": "python",
   "name": "python3"
  },
  "language_info": {
   "codemirror_mode": {
    "name": "ipython",
    "version": 3
   },
   "file_extension": ".py",
   "mimetype": "text/x-python",
   "name": "python",
   "nbconvert_exporter": "python",
   "pygments_lexer": "ipython3",
   "version": "3.12.1"
  }
 },
 "nbformat": 4,
 "nbformat_minor": 2
}
