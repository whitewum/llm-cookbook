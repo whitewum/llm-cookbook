{
 "cells": [
  {
   "cell_type": "code",
   "execution_count": 1,
   "metadata": {},
   "outputs": [],
   "source": [
    "import os\n",
    "from openai import OpenAI\n",
    "\n",
    "\n",
    "client = OpenAI(\n",
    "  api_key=\"sk-\",\n",
    "  base_url=\"https://api.deepseek.com\"\n",
    ")\n",
    "deployment = \"deepseek-chat\" "
   ]
  },
  {
   "cell_type": "code",
   "execution_count": 4,
   "metadata": {},
   "outputs": [
    {
     "name": "stdout",
     "output_type": "stream",
     "text": [
      "摘要结果: 你与众不同，给我疏离孤独感。内心深处孤独，伪装自己，渴望刺激与危险。吸引我目光，想了解你，却感外界有保护膜。\n",
      "使用的token数量: 217\n"
     ]
    }
   ],
   "source": [
    "def get_completion(prompt, max_tokens=270, temperature=0.6):\n",
    "    messages = [{\"role\": \"user\", \"content\": prompt}]\n",
    "    response = client.chat.completions.create(\n",
    "        model=deployment,\n",
    "        messages=messages,\n",
    "        temperature=temperature,\n",
    "        max_tokens=max_tokens\n",
    "    )\n",
    "    content = response.choices[0].message.content\n",
    "    token_usage = response.usage.total_tokens\n",
    "    return content, token_usage\n",
    "\n",
    "def summarize_text(text, max_tokens=100, temperature=0.6):\n",
    "    prompt = f\"Summarize the following text in {max_tokens} tokens or less: {text}\"\n",
    "    summary, token_usage = get_completion(prompt, max_tokens=max_tokens, temperature=temperature)\n",
    "    return summary, token_usage\n",
    "\n",
    "def main():\n",
    "    # 示例输入\n",
    "    text = \"\"\"\n",
    "你好特别，你和我认识的男生都不一样，你给我一种疏离感，很孤独的感觉，若即若离，我听过很多人说自己孤独但我觉得你的孤独才是真正的孤独。感觉你的内心深处一直都只有你一个人，你一直在伪装自己。你想要一点刺激，一点危险，一点捉摸不透，甚至是一点折磨。你想要过度的东西，你想要不可理喻的沉迷，想要情绪的烈火炙烤你的灵魂，你想要能够消耗你生命的爱情。你给我的感觉就像博尔赫斯那句你不过是每一个孤独的瞬息。在任何时候看到你都会吸引我的目光，即使你面无表情很多时候我想去了解你，想知道你在想什么，又觉得你的外界有一层保护膜，我不想打破。\"\"\"\n",
    "    max_tokens = int(input(\"请输入摘要的最大token数量: \"))\n",
    "    temperature = float(input(\"请输入temperature参数 (0.0 - 1.0): \"))\n",
    "\n",
    "    # 进行摘要\n",
    "    summary, token_usage = summarize_text(text, max_tokens=max_tokens, temperature=temperature)\n",
    "\n",
    "    # 输出摘要结果和token使用量\n",
    "    print(f\"摘要结果: {summary}\")\n",
    "    print(f\"使用的token数量: {token_usage}\")\n",
    "\n",
    "if __name__ == \"__main__\":\n",
    "    main()"
   ]
  }
 ],
 "metadata": {
  "kernelspec": {
   "display_name": "Python 3",
   "language": "python",
   "name": "python3"
  },
  "language_info": {
   "codemirror_mode": {
    "name": "ipython",
    "version": 3
   },
   "file_extension": ".py",
   "mimetype": "text/x-python",
   "name": "python",
   "nbconvert_exporter": "python",
   "pygments_lexer": "ipython3",
   "version": "3.12.1"
  }
 },
 "nbformat": 4,
 "nbformat_minor": 2
}
