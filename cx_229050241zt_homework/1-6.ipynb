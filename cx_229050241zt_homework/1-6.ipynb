{
 "cells": [
  {
   "cell_type": "code",
   "execution_count": 2,
   "metadata": {},
   "outputs": [],
   "source": [
    "import os\n",
    "from openai import OpenAI\n",
    "\n",
    "\n",
    "client = OpenAI(\n",
    "  api_key=\"sk-\",\n",
    "  base_url=\"https://api.deepseek.com\"\n",
    ")\n",
    "deployment = \"deepseek-chat\" "
   ]
  },
  {
   "cell_type": "code",
   "execution_count": 8,
   "metadata": {},
   "outputs": [
    {
     "name": "stdout",
     "output_type": "stream",
     "text": [
      "代码解释: 这段Python代码定义了两个函数：`greet_user` 和 `main`。\n",
      "\n",
      "### 1. `greet_user` 函数\n",
      "```python\n",
      "def greet_user(name):\n",
      "    \"\"\"生成个性化的问候语\"\"\"\n",
      "    return f\"你好, {name}! 很高兴见到你。\"\n",
      "```\n",
      "- **功能**: 这个函数接受一个参数 `name`，并返回一个包含该名字的个性化问候语。\n",
      "使用的token数量: 174\n"
     ]
    }
   ],
   "source": [
    "def get_completion(prompt, max_tokens=270, temperature=0.6):\n",
    "    \"\"\"\n",
    "    向OpenAI模型发送请求并获取响应。\n",
    "    \n",
    "    参数:\n",
    "    prompt (str): 用户输入的提示。\n",
    "    max_tokens (int): 生成的最大token数量。\n",
    "    temperature (float): 控制生成文本的创意性。\n",
    "    \n",
    "    返回:\n",
    "    content (str): 生成的内容。\n",
    "    token_usage (int): 使用的token数量。\n",
    "    \"\"\"\n",
    "    messages = [{\"role\": \"user\", \"content\": prompt}]\n",
    "    response = client.chat.completions.create(\n",
    "        model=deployment,\n",
    "        messages=messages,\n",
    "        temperature=temperature,\n",
    "        max_tokens=max_tokens\n",
    "    )\n",
    "    content = response.choices[0].message.content\n",
    "    token_usage = response.usage.total_tokens\n",
    "    return content, token_usage\n",
    "\n",
    "def explain_code(code, max_tokens=270, temperature=0.6):\n",
    "    \"\"\"\n",
    "    生成对Python代码的详细解释（中文）。\n",
    "    \n",
    "    参数:\n",
    "    code (str): 要解释的Python代码。\n",
    "    max_tokens (int): 生成的最大token数量。\n",
    "    temperature (float): 控制生成文本的创意性。\n",
    "    \n",
    "    返回:\n",
    "    explanation (str): 生成的代码解释。\n",
    "    token_usage (int): 使用的token数量。\n",
    "    \"\"\"\n",
    "    prompt = f\"请详细解释以下Python代码，根据最大token限制 {max_tokens} 调整解释的详细程度（用中文）: {code}\"\n",
    "    explanation, token_usage = get_completion(prompt, max_tokens=max_tokens, temperature=temperature)\n",
    "    return explanation, token_usage\n",
    "\n",
    "def main():\n",
    "    \"\"\"\n",
    "    主函数，用于获取用户输入并调用解释函数。\n",
    "    \"\"\"\n",
    "    # 示例输入\n",
    "    code = input(\"请输入要解释的Python代码: \")\n",
    "    max_tokens = int(input(\"请输入解释的最大token数量: \"))\n",
    "    temperature = float(input(\"请输入temperature参数 (0.0 - 1.0): \"))\n",
    "\n",
    "    # 进行代码解释\n",
    "    explanation, token_usage = explain_code(code, max_tokens=max_tokens, temperature=temperature)\n",
    "\n",
    "    # 输出解释结果和token使用量\n",
    "    print(f\"代码解释: {explanation}\")\n",
    "    print(f\"使用的token数量: {token_usage}\")\n",
    "\n",
    "if __name__ == \"__main__\":\n",
    "    main()"
   ]
  }
 ],
 "metadata": {
  "kernelspec": {
   "display_name": "Python 3",
   "language": "python",
   "name": "python3"
  },
  "language_info": {
   "codemirror_mode": {
    "name": "ipython",
    "version": 3
   },
   "file_extension": ".py",
   "mimetype": "text/x-python",
   "name": "python",
   "nbconvert_exporter": "python",
   "pygments_lexer": "ipython3",
   "version": "3.12.1"
  }
 },
 "nbformat": 4,
 "nbformat_minor": 2
}
