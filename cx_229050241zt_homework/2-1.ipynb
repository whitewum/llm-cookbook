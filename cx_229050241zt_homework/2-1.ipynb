{
 "cells": [
  {
   "cell_type": "code",
   "execution_count": 12,
   "metadata": {},
   "outputs": [
    {
     "name": "stdout",
     "output_type": "stream",
     "text": [
      "分析查询 '哪个笔记本电脑更适合游戏：TechPro Ultrabook 还是 BlueWave Gaming Laptop？'，我们确定了两个相关产品：TechPro Ultrabook 和 BlueWave Gaming Laptop。\n",
      "比较它们的特性，特别是游戏性能：\n",
      "- TechPro Ultrabook 的游戏性能评分为 3\n",
      "- BlueWave Gaming Laptop 的游戏性能评分为 8\n",
      "因此，BlueWave Gaming Laptop 更适合游戏。\n"
     ]
    }
   ],
   "source": [
    "import re\n",
    "\n",
    "def cot_reasoning(user_query, product_catalog):\n",
    "    \"\"\"\n",
    "    使用思维链(COT)方法处理用户查询\n",
    "    \n",
    "    参数:\n",
    "    user_query (str): 用户的查询\n",
    "    product_catalog (dict): 产品目录\n",
    "    \n",
    "    返回:\n",
    "    str: 包含推理过程和最终答案的字符串\n",
    "    \"\"\"\n",
    "    # 1. 分析查询\n",
    "    query_words = user_query.lower()\n",
    "    relevant_products = []\n",
    "    \n",
    "    # 2. 确定相关产品\n",
    "    for product_name in product_catalog:\n",
    "        # 使用正则表达式匹配产品名称\n",
    "        if re.search(r'\\b' + re.escape(product_name.lower()) + r'\\b', query_words):\n",
    "            relevant_products.append(product_name)\n",
    "    \n",
    "    if len(relevant_products) != 2:\n",
    "        return \"无法确定相关产品。\"\n",
    "    \n",
    "    product1, product2 = relevant_products\n",
    "    \n",
    "    # 3. 比较产品特性\n",
    "    product1_info = product_catalog[product1]\n",
    "    product2_info = product_catalog[product2]\n",
    "    \n",
    "    # 假设产品目录中包含 \"gaming_performance\" 作为游戏性能的指标\n",
    "    product1_gaming_performance = product1_info.get(\"gaming_performance\", 0)\n",
    "    product2_gaming_performance = product2_info.get(\"gaming_performance\", 0)\n",
    "    \n",
    "    # 4. 得出结论\n",
    "    reasoning = f\"分析查询 '{user_query}'，我们确定了两个相关产品：{product1} 和 {product2}。\\n\"\n",
    "    reasoning += f\"比较它们的特性，特别是游戏性能：\\n\"\n",
    "    reasoning += f\"- {product1} 的游戏性能评分为 {product1_gaming_performance}\\n\"\n",
    "    reasoning += f\"- {product2} 的游戏性能评分为 {product2_gaming_performance}\\n\"\n",
    "    \n",
    "    if product1_gaming_performance > product2_gaming_performance:\n",
    "        conclusion = f\"因此，{product1} 更适合游戏。\"\n",
    "    elif product2_gaming_performance > product1_gaming_performance:\n",
    "        conclusion = f\"因此，{product2} 更适合游戏。\"\n",
    "    else:\n",
    "        conclusion = \"两者的游戏性能相当，无法确定哪个更适合游戏。\"\n",
    "    \n",
    "    return reasoning + conclusion\n",
    "\n",
    "# 测试\n",
    "query = \"哪个笔记本电脑更适合游戏：TechPro Ultrabook 还是 BlueWave Gaming Laptop？\"\n",
    "\n",
    "catalog = {\n",
    "    \"TechPro Ultrabook\": {\"gaming_performance\": 3},\n",
    "    \"BlueWave Gaming Laptop\": {\"gaming_performance\": 8}\n",
    "}\n",
    "\n",
    "print(cot_reasoning(query, catalog))"
   ]
  }
 ],
 "metadata": {
  "kernelspec": {
   "display_name": "Python 3",
   "language": "python",
   "name": "python3"
  },
  "language_info": {
   "codemirror_mode": {
    "name": "ipython",
    "version": 3
   },
   "file_extension": ".py",
   "mimetype": "text/x-python",
   "name": "python",
   "nbconvert_exporter": "python",
   "pygments_lexer": "ipython3",
   "version": "3.12.1"
  }
 },
 "nbformat": 4,
 "nbformat_minor": 2
}
